{
 "cells": [
  {
   "cell_type": "code",
   "execution_count": 1,
   "id": "3404427f",
   "metadata": {},
   "outputs": [],
   "source": [
    "# !pip install -qU \\\n",
    "#   \"pinecone-client[grpc]\"==2.2.1 \\\n",
    "#   datasets==2.12.0 \\\n",
    "#   sentence-transformers==2.2.2"
   ]
  },
  {
   "cell_type": "code",
   "execution_count": 28,
   "id": "53e8e08f",
   "metadata": {},
   "outputs": [
    {
     "name": "stderr",
     "output_type": "stream",
     "text": [
      "Found cached dataset parquet (/Users/nirantk/.cache/huggingface/datasets/Cohere___parquet/Cohere--wikipedia-22-12-hi-embeddings-9492772e96dab9c4/0.0.0/2a3b91fbd88a2c90d1dbbb32b460cf621d31bd5b05b934492fdef7d8d6f236ec)\n"
     ]
    }
   ],
   "source": [
    "from datasets import load_dataset\n",
    "\n",
    "docs = load_dataset(f\"Cohere/wikipedia-22-12-hi-embeddings\", split=\"train[0:1024]\")"
   ]
  },
  {
   "cell_type": "code",
   "execution_count": 29,
   "id": "0f07cac9",
   "metadata": {},
   "outputs": [
    {
     "data": {
      "text/plain": [
       "Dataset({\n",
       "    features: ['id', 'title', 'text', 'url', 'wiki_id', 'views', 'paragraph_id', 'langs', 'emb'],\n",
       "    num_rows: 1024\n",
       "})"
      ]
     },
     "execution_count": 29,
     "metadata": {},
     "output_type": "execute_result"
    }
   ],
   "source": [
    "docs"
   ]
  },
  {
   "cell_type": "code",
   "execution_count": 53,
   "id": "d1e57f05",
   "metadata": {},
   "outputs": [
    {
     "data": {
      "text/plain": [
       "'भारत का संविधान, भारत का सर्वोच्च विधान है जो संविधान सभा द्वारा 26 नवम्बर 1949 को पारित हुआ तथा 26 जनवरी 1950 से प्रभावी हुआ। यह दिन (26 नवम्बर) भारत के संविधान दिवस के रूप में घोषित किया गया है |जबकि 26 जनवरी का दिन भारत में गणतन्त्र दिवस के रूप में मनाया जाता है।'"
      ]
     },
     "execution_count": 53,
     "metadata": {},
     "output_type": "execute_result"
    }
   ],
   "source": [
    "docs[0][\"text\"]"
   ]
  },
  {
   "cell_type": "code",
   "execution_count": 30,
   "id": "90ab088a",
   "metadata": {},
   "outputs": [],
   "source": [
    "emb_sz = len(docs[\"emb\"][0])"
   ]
  },
  {
   "cell_type": "code",
   "execution_count": 31,
   "id": "12302371",
   "metadata": {},
   "outputs": [],
   "source": [
    "docs_list = docs.to_list()"
   ]
  },
  {
   "cell_type": "code",
   "execution_count": 34,
   "id": "998e6f20",
   "metadata": {},
   "outputs": [
    {
     "name": "stdout",
     "output_type": "stream",
     "text": [
      "id\n",
      "title\n",
      "text\n",
      "url\n",
      "wiki_id\n",
      "views\n",
      "paragraph_id\n",
      "langs\n",
      "emb\n"
     ]
    }
   ],
   "source": [
    "for k in docs_list[0]:\n",
    "    print(k)"
   ]
  },
  {
   "cell_type": "code",
   "execution_count": 9,
   "id": "738cc3c4",
   "metadata": {},
   "outputs": [
    {
     "name": "stderr",
     "output_type": "stream",
     "text": [
      "Found cached dataset quora (/Users/nirantk/.cache/huggingface/datasets/quora/default/0.0.0/36ba4cd42107f051a158016f1bea6ae3f4685c5df843529108a54e42d86c1e04)\n"
     ]
    },
    {
     "data": {
      "text/plain": [
       "Dataset({\n",
       "    features: ['questions', 'is_duplicate'],\n",
       "    num_rows: 80000\n",
       "})"
      ]
     },
     "execution_count": 9,
     "metadata": {},
     "output_type": "execute_result"
    }
   ],
   "source": [
    "dataset = load_dataset(\"quora\", split=\"train[240000:320000]\")\n",
    "dataset"
   ]
  },
  {
   "cell_type": "code",
   "execution_count": 10,
   "id": "11d1acc5",
   "metadata": {},
   "outputs": [],
   "source": [
    "import os\n",
    "import pinecone\n",
    "\n",
    "# get api key from app.pinecone.io\n",
    "PINECONE_API_KEY = os.environ.get(\"PINECONE_API_KEY\") or \"a5ef6eb7-b753-45d7-86db-c1faed66895f\"\n",
    "# find your environment next to the api key in pinecone console\n",
    "PINECONE_ENV = os.environ.get(\"PINECONE_ENVIRONMENT\") or \"us-east1-gcp\"\n",
    "\n",
    "pinecone.init(api_key=PINECONE_API_KEY, environment=PINECONE_ENV)"
   ]
  },
  {
   "cell_type": "code",
   "execution_count": 13,
   "id": "edef2366",
   "metadata": {},
   "outputs": [],
   "source": [
    "index_name = \"hindi-search\"\n",
    "\n",
    "# only create index if it doesn't exist\n",
    "if index_name not in pinecone.list_indexes():\n",
    "    pinecone.create_index(name=index_name, dimension=emb_sz, metric=\"cosine\")\n",
    "\n",
    "# now connect to the index\n",
    "index = pinecone.GRPCIndex(index_name)"
   ]
  },
  {
   "cell_type": "code",
   "execution_count": 15,
   "id": "9b16daba",
   "metadata": {},
   "outputs": [
    {
     "data": {
      "text/plain": [
       "{'dimension': 768,\n",
       " 'index_fullness': 0.0,\n",
       " 'namespaces': {},\n",
       " 'total_vector_count': 0}"
      ]
     },
     "execution_count": 15,
     "metadata": {},
     "output_type": "execute_result"
    }
   ],
   "source": [
    "index.describe_index_stats()"
   ]
  },
  {
   "cell_type": "code",
   "execution_count": 16,
   "id": "d54ac910",
   "metadata": {},
   "outputs": [
    {
     "data": {
      "text/plain": [
       "'hindi-search'"
      ]
     },
     "execution_count": 16,
     "metadata": {},
     "output_type": "execute_result"
    }
   ],
   "source": [
    "index.name"
   ]
  },
  {
   "cell_type": "code",
   "execution_count": 48,
   "id": "316b84fd",
   "metadata": {},
   "outputs": [
    {
     "data": {
      "application/vnd.jupyter.widget-view+json": {
       "model_id": "c559fd6307bd4e98b3638af892081182",
       "version_major": 2,
       "version_minor": 0
      },
      "text/plain": [
       "  0%|          | 0/8 [00:00<?, ?it/s]"
      ]
     },
     "metadata": {},
     "output_type": "display_data"
    },
    {
     "data": {
      "text/plain": [
       "{'dimension': 768,\n",
       " 'index_fullness': 0.0,\n",
       " 'namespaces': {'': {'vector_count': 1024}},\n",
       " 'total_vector_count': 1024}"
      ]
     },
     "execution_count": 48,
     "metadata": {},
     "output_type": "execute_result"
    }
   ],
   "source": [
    "from tqdm.auto import tqdm\n",
    "import numpy as np\n",
    "\n",
    "batch_size = 128\n",
    "\n",
    "for i in tqdm(range(0, len(docs_list), batch_size)):\n",
    "    # find end of batch\n",
    "    i_end = min(i + batch_size, len(docs_list))\n",
    "    # create metadata batch\n",
    "    chunk = docs[i:i_end]\n",
    "    metadatas = [{\"text\": text} for text in chunk[\"text\"]]\n",
    "    ids = [str(x) for x in chunk[\"id\"]]\n",
    "    #     print(ids)\n",
    "    #     assert isinstance(xc, list)\n",
    "    emb = np.array(chunk[\"emb\"])\n",
    "    records = zip(ids, emb, metadatas)\n",
    "    # upsert to Pinecone\n",
    "    index.upsert(vectors=records)\n",
    "\n",
    "# check number of records in the index\n",
    "index.describe_index_stats()"
   ]
  },
  {
   "cell_type": "code",
   "execution_count": 49,
   "id": "ee8dba04",
   "metadata": {},
   "outputs": [
    {
     "data": {
      "text/plain": [
       "768"
      ]
     },
     "execution_count": 49,
     "metadata": {},
     "output_type": "execute_result"
    }
   ],
   "source": [
    "index.describe_index_stats()[\"dimension\"]"
   ]
  },
  {
   "cell_type": "code",
   "execution_count": null,
   "id": "0e568364",
   "metadata": {},
   "outputs": [],
   "source": []
  }
 ],
 "metadata": {
  "kernelspec": {
   "display_name": "Python 3 (ipykernel)",
   "language": "python",
   "name": "python3"
  },
  "language_info": {
   "codemirror_mode": {
    "name": "ipython",
    "version": 3
   },
   "file_extension": ".py",
   "mimetype": "text/x-python",
   "name": "python",
   "nbconvert_exporter": "python",
   "pygments_lexer": "ipython3",
   "version": "3.8.16"
  }
 },
 "nbformat": 4,
 "nbformat_minor": 5
}
